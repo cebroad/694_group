{
 "cells": [
  {
   "cell_type": "code",
   "execution_count": 19,
   "metadata": {
    "collapsed": true
   },
   "outputs": [],
   "source": [
    "#Functions to convert data\n",
    "from pyspark.sql import Row\n",
    "from datetime import datetime\n",
    "\n",
    "def toIntSafe(inval):\n",
    "    try:\n",
    "        return int(inval)\n",
    "    except ValueError:\n",
    "        return None\n",
    "\n",
    "def toTimeSafe(inval):\n",
    "    try:\n",
    "        return datetime.strptime(inval, \"%Y-%m-%d %H:%M:%S.%f\")\n",
    "    except ValueError:\n",
    "        return None\n",
    "\n",
    "def toDateSafe(inval):\n",
    "    try:\n",
    "        return datetime.strptime(inval, \"%m/%d/%Y\")\n",
    "    except ValueError:\n",
    "        return None\n",
    "    \n",
    "def toFloatSafe(inval):\n",
    "    try:\n",
    "        return float(inval)\n",
    "    except ValueError:\n",
    "        return None"
   ]
  },
  {
   "cell_type": "code",
   "execution_count": 20,
   "metadata": {
    "collapsed": true
   },
   "outputs": [],
   "source": [
    "file_name = 'babs_open_data_year_1/201408_babs_open_data/201408_weather_data.csv'"
   ]
  },
  {
   "cell_type": "code",
   "execution_count": 21,
   "metadata": {
    "collapsed": false
   },
   "outputs": [],
   "source": [
    "# Step 1: Import and remove header\n",
    "weather_201408 = sc.textFile(file_name)\n",
    "header = weather_201408.first() #extract header\n",
    "weather_201408 = weather_201408.filter(lambda row: row != header) #filter to exclude header"
   ]
  },
  {
   "cell_type": "code",
   "execution_count": 22,
   "metadata": {
    "collapsed": true
   },
   "outputs": [],
   "source": [
    "# Step 2: Split rows by commas and convert to tuples\n",
    "weather_201408_split = weather_201408.map(lambda x: x.split(\",\"))\n",
    "weather_201408_tuple = weather_201408_split.map(lambda l: tuple(l))"
   ]
  },
  {
   "cell_type": "code",
   "execution_count": 7,
   "metadata": {
    "collapsed": false
   },
   "outputs": [],
   "source": [
    "# Check: Print out tuple-formatted data\n",
    "weather_201408_tuple.take(5)"
   ]
  },
  {
   "cell_type": "code",
   "execution_count": 35,
   "metadata": {
    "collapsed": true
   },
   "outputs": [],
   "source": [
    "#Step 3: Define Conversion Function\n",
    "def convStationString(r):\n",
    "    return Row(\n",
    "    toDateSafe(r[0])\n",
    "    ,toIntSafe(r[1])\n",
    "    ,toIntSafe(r[2])\n",
    "    ,toIntSafe(r[3])\n",
    "    ,toIntSafe(r[4])\n",
    "    ,toIntSafe(r[5])\n",
    "    ,toIntSafe(r[6])\n",
    "    ,toIntSafe(r[7])\n",
    "    ,toIntSafe(r[8])\n",
    "    ,toIntSafe(r[9])\n",
    "    ,toFloatSafe(r[10])\n",
    "    ,toFloatSafe(r[11])\n",
    "    ,toFloatSafe(r[12])\n",
    "    ,toIntSafe(r[13])\n",
    "    ,toIntSafe(r[14])\n",
    "    ,toIntSafe(r[15])\n",
    "    ,toIntSafe(r[16])\n",
    "    ,toIntSafe(r[17])\n",
    "    ,toIntSafe(r[18])\n",
    "    ,toFloatSafe(r[19])\n",
    "    ,toIntSafe(r[20])\n",
    "    ,r[21]\n",
    "    ,toIntSafe(r[22])\n",
    "    ,r[23]\n",
    "    )"
   ]
  },
  {
   "cell_type": "code",
   "execution_count": 36,
   "metadata": {
    "collapsed": true
   },
   "outputs": [],
   "source": [
    "# Step 4: Define Structure Type\n",
    "from pyspark.sql.types import *\n",
    "\n",
    "stationSchema = StructType([\n",
    "  StructField(\"Date\", DateType(), True),\n",
    "  StructField(\"max_temp\", IntegerType(), True),\n",
    "  StructField(\"mean_temp\", IntegerType(), True),\n",
    "  StructField(\"min_temp\", IntegerType(), True),\n",
    "  StructField(\"max_dp\", IntegerType(), True),\n",
    "  StructField(\"mean_dp\", IntegerType(), True),\n",
    "  StructField(\"min_dp\", IntegerType(), True),\n",
    "  StructField(\"max_humidity\", IntegerType(), True),\n",
    "  StructField(\"mean_humidity\", IntegerType(), True),\n",
    "  StructField(\"min_humidity\", IntegerType(), True),\n",
    "  StructField(\"max_pressure\", FloatType(), True),\n",
    "  StructField(\"mean_pressure\", FloatType(), True),\n",
    "  StructField(\"min_pressure\", FloatType(), True),\n",
    "  StructField(\"max_visibility\", IntegerType(), True),\n",
    "  StructField(\"mean_visibility\", IntegerType(), True),\n",
    "  StructField(\"min_visibility\", IntegerType(), True),\n",
    "  StructField(\"max_ws\", IntegerType(), True),\n",
    "  StructField(\"mean_ws\", IntegerType(), True),\n",
    "  StructField(\"max_gust\", IntegerType(), True),\n",
    "  StructField(\"precipitation\", FloatType(), True),\n",
    "  StructField(\"cloud_cover\", IntegerType(), True),\n",
    "  StructField(\"events\", StringType(), True),\n",
    "  StructField(\"wind_dir\", IntegerType(), True),\n",
    "  StructField(\"zip_code\", StringType(), True)\n",
    "  ])"
   ]
  },
  {
   "cell_type": "code",
   "execution_count": 37,
   "metadata": {
    "collapsed": true
   },
   "outputs": [],
   "source": [
    "# Step 5: Convert Input Data\n",
    "weather_201408_RDD = weather_201408_tuple.map(lambda x: convStationString(x))"
   ]
  },
  {
   "cell_type": "code",
   "execution_count": 38,
   "metadata": {
    "collapsed": true
   },
   "outputs": [],
   "source": [
    "# Step 6: Create DataFrame with Schema\n",
    "weather_201408_DF = sqlContext.createDataFrame(weather_201408_RDD, stationSchema)"
   ]
  },
  {
   "cell_type": "code",
   "execution_count": 39,
   "metadata": {
    "collapsed": false
   },
   "outputs": [
    {
     "name": "stdout",
     "output_type": "stream",
     "text": [
      "root\n",
      " |-- Date: date (nullable = true)\n",
      " |-- max_temp: integer (nullable = true)\n",
      " |-- mean_temp: integer (nullable = true)\n",
      " |-- min_temp: integer (nullable = true)\n",
      " |-- max_dp: integer (nullable = true)\n",
      " |-- mean_dp: integer (nullable = true)\n",
      " |-- min_dp: integer (nullable = true)\n",
      " |-- max_humidity: integer (nullable = true)\n",
      " |-- mean_humidity: integer (nullable = true)\n",
      " |-- min_humidity: integer (nullable = true)\n",
      " |-- max_pressure: float (nullable = true)\n",
      " |-- mean_pressure: float (nullable = true)\n",
      " |-- min_pressure: float (nullable = true)\n",
      " |-- max_visibility: integer (nullable = true)\n",
      " |-- mean_visibility: integer (nullable = true)\n",
      " |-- min_visibility: integer (nullable = true)\n",
      " |-- max_ws: integer (nullable = true)\n",
      " |-- mean_ws: integer (nullable = true)\n",
      " |-- max_gust: integer (nullable = true)\n",
      " |-- precipitation: float (nullable = true)\n",
      " |-- cloud_cover: integer (nullable = true)\n",
      " |-- events: string (nullable = true)\n",
      " |-- wind_dir: integer (nullable = true)\n",
      " |-- zip_code: string (nullable = true)\n",
      "\n"
     ]
    }
   ],
   "source": [
    "# Check: Print Schema\n",
    "weather_201408_DF.printSchema()"
   ]
  },
  {
   "cell_type": "code",
   "execution_count": 40,
   "metadata": {
    "collapsed": false
   },
   "outputs": [
    {
     "name": "stdout",
     "output_type": "stream",
     "text": [
      "+----------+--------+---------+--------+------+-------+------+------------+-------------+------------+------------+-------------+------------+--------------+---------------+--------------+------+-------+--------+-------------+-----------+------+--------+--------+\n",
      "|      Date|max_temp|mean_temp|min_temp|max_dp|mean_dp|min_dp|max_humidity|mean_humidity|min_humidity|max_pressure|mean_pressure|min_pressure|max_visibility|mean_visibility|min_visibility|max_ws|mean_ws|max_gust|precipitation|cloud_cover|events|wind_dir|zip_code|\n",
      "+----------+--------+---------+--------+------+-------+------+------------+-------------+------------+------------+-------------+------------+--------------+---------------+--------------+------+-------+--------+-------------+-----------+------+--------+--------+\n",
      "|2014-03-01|      69|       62|      54|    54|     48|    44|          78|           63|          48|       29.82|        29.63|       29.47|            10|             10|            10|    17|     10|      25|         0.03|          7|  Rain|     108|   94107|\n",
      "|2014-03-02|      61|       57|      53|    55|     51|    47|          83|           75|          67|       30.17|        30.01|       29.83|            10|              9|             2|    20|      9|      26|         0.02|          6|  Rain|     181|   94107|\n",
      "|2014-03-03|      61|       56|      50|    52|     49|    47|          89|           77|          64|       30.15|        30.11|       30.04|            10|             10|             9|    18|      6|      28|          0.1|          7|  Rain|     135|   94107|\n",
      "|2014-03-04|      66|       61|      55|    54|     52|    49|          86|           77|          67|       30.12|        30.09|       30.06|            10|             10|             7|    17|      5|    null|         null|          7|  Rain|      16|   94107|\n",
      "|2014-03-05|      66|       60|      54|    58|     54|    48|          93|           73|          52|       30.11|        30.06|       29.99|            10|              8|             2|    20|      6|      23|         0.26|          8|  Rain|     211|   94107|\n",
      "|2014-03-06|      65|       58|      51|    57|     53|    48|          93|           80|          67|        30.2|        30.13|       30.06|            10|              9|             4|    15|      8|      20|         0.01|          6|  Rain|     258|   94107|\n",
      "|2014-03-07|      66|       57|      48|    50|     47|    43|          89|           67|          44|       30.19|        30.15|       30.11|            10|             10|             9|    14|      6|      24|          0.0|          2|      |     296|   94107|\n",
      "|2014-03-08|      72|       59|      46|    51|     48|    39|          93|           63|          33|       30.21|        30.16|       30.12|            10|             10|            10|    17|      4|      48|          0.0|          5|   Fog|     285|   94107|\n",
      "|2014-03-09|      71|       63|      55|    54|     51|    48|          80|           69|          57|       30.17|        30.13|       30.07|            10|             10|            10|    13|      6|      18|         null|          7|  Rain|     291|   94107|\n",
      "|2014-03-10|      68|       62|      56|    55|     48|    43|          86|           66|          45|       30.24|        30.17|       30.11|            10|             10|             9|    20|      8|      22|         null|          5|  Rain|     307|   94107|\n",
      "|2014-03-11|      74|       61|      47|    40|     31|    25|          61|           40|          19|       30.19|         30.1|       30.02|            10|             10|            10|    30|     11|      37|          0.0|          1|      |       6|   94107|\n",
      "|2014-03-12|      78|       66|      53|    34|     28|    23|          36|           26|          16|       30.11|        30.05|       30.01|            10|             10|            10|    32|     16|      40|          0.0|          0|      |      28|   94107|\n",
      "|2014-03-13|      73|       58|      46|    49|     43|    33|          80|           58|          27|       30.08|        30.03|       29.99|            10|             10|            10|    17|      6|    null|          0.0|          1|      |     270|   94107|\n",
      "|2014-03-14|      67|       60|      53|    52|     49|    46|          83|           68|          52|       30.23|        30.15|       30.08|            10|             10|            10|    13|      7|      21|          0.0|          4|      |     248|   94107|\n",
      "|2014-03-15|      77|       62|      47|    52|     48|    41|          93|           63|          33|       30.31|        30.27|       30.23|            10|             10|            10|    14|      6|      16|          0.0|          0|   Fog|     293|   94107|\n",
      "|2014-03-16|      72|       60|      48|    52|     48|    46|          89|           68|          47|       30.32|        30.27|       30.21|            10|             10|            10|    21|      8|      23|          0.0|          3|   Fog|     292|   94107|\n",
      "|2014-03-17|      69|       59|      49|    49|     46|    43|          77|           60|          42|       30.24|        30.11|       29.99|            10|             10|            10|    22|     11|      29|         null|          3|      |     291|   94107|\n",
      "|2014-03-18|      70|       57|      43|    45|     39|    31|          86|           55|          24|       29.99|        29.95|       29.91|            10|             10|            10|    17|      5|      22|          0.0|          1|      |     290|   94107|\n",
      "|2014-03-19|      73|       59|      45|    48|     40|    34|          77|           52|          27|       30.09|        30.04|       29.98|            10|             10|            10|    14|      6|      26|          0.0|          2|      |     316|   94107|\n",
      "|2014-03-20|      70|       60|      50|    51|     45|    41|          77|           61|          44|       30.06|        30.02|       29.96|            10|             10|            10|    18|      8|    null|          0.0|          5|      |     292|   94107|\n",
      "+----------+--------+---------+--------+------+-------+------+------------+-------------+------------+------------+-------------+------------+--------------+---------------+--------------+------+-------+--------+-------------+-----------+------+--------+--------+\n",
      "only showing top 20 rows\n",
      "\n"
     ]
    }
   ],
   "source": [
    "# Check: Print First 20 Rows of Data Frame\n",
    "weather_201408_DF.show()"
   ]
  },
  {
   "cell_type": "code",
   "execution_count": 14,
   "metadata": {
    "collapsed": false
   },
   "outputs": [
    {
     "data": {
      "text/plain": [
       "[u'3/1/2014,69,62,54,54,48,44,78,63,48,29.82,29.63,29.47,10,10,10,17,10,25,0.03,7,Rain,108,94107',\n",
       " u'3/2/2014,61,57,53,55,51,47,83,75,67,30.17,30.01,29.83,10,9,2,20,9,26,0.02,6,Rain,181,94107',\n",
       " u'3/3/2014,61,56,50,52,49,47,89,77,64,30.15,30.11,30.04,10,10,9,18,6,28,0.1,7,Rain,135,94107',\n",
       " u'3/4/2014,66,61,55,54,52,49,86,77,67,30.12,30.09,30.06,10,10,7,17,5,,T,7,Rain,16,94107',\n",
       " u'3/5/2014,66,60,54,58,54,48,93,73,52,30.11,30.06,29.99,10,8,2,20,6,23,0.26,8,Rain,211,94107',\n",
       " u'3/6/2014,65,58,51,57,53,48,93,80,67,30.2,30.13,30.06,10,9,4,15,8,20,0.01,6,Rain,258,94107',\n",
       " u'3/7/2014,66,57,48,50,47,43,89,67,44,30.19,30.15,30.11,10,10,9,14,6,24,0,2,,296,94107',\n",
       " u'3/8/2014,72,59,46,51,48,39,93,63,33,30.21,30.16,30.12,10,10,10,17,4,48,0,5,Fog,285,94107',\n",
       " u'3/9/2014,71,63,55,54,51,48,80,69,57,30.17,30.13,30.07,10,10,10,13,6,18,T,7,Rain,291,94107',\n",
       " u'3/10/2014,68,62,56,55,48,43,86,66,45,30.24,30.17,30.11,10,10,9,20,8,22,T,5,Rain,307,94107',\n",
       " u'3/11/2014,74,61,47,40,31,25,61,40,19,30.19,30.1,30.02,10,10,10,30,11,37,0,1,,6,94107',\n",
       " u'3/12/2014,78,66,53,34,28,23,36,26,16,30.11,30.05,30.01,10,10,10,32,16,40,0,0,,28,94107',\n",
       " u'3/13/2014,73,58,46,49,43,33,80,58,27,30.08,30.03,29.99,10,10,10,17,6,,0,1,,270,94107',\n",
       " u'3/14/2014,67,60,53,52,49,46,83,68,52,30.23,30.15,30.08,10,10,10,13,7,21,0,4,,248,94107',\n",
       " u'3/15/2014,77,62,47,52,48,41,93,63,33,30.31,30.27,30.23,10,10,10,14,6,16,0,0,Fog,293,94107',\n",
       " u'3/16/2014,72,60,48,52,48,46,89,68,47,30.32,30.27,30.21,10,10,10,21,8,23,0,3,Fog,292,94107',\n",
       " u'3/17/2014,69,59,49,49,46,43,77,60,42,30.24,30.11,29.99,10,10,10,22,11,29,T,3,,291,94107',\n",
       " u'3/18/2014,70,57,43,45,39,31,86,55,24,29.99,29.95,29.91,10,10,10,17,5,22,0,1,,290,94107',\n",
       " u'3/19/2014,73,59,45,48,40,34,77,52,27,30.09,30.04,29.98,10,10,10,14,6,26,0,2,,316,94107',\n",
       " u'3/20/2014,70,60,50,51,45,41,77,61,44,30.06,30.02,29.96,10,10,10,18,8,,0,5,,292,94107']"
      ]
     },
     "execution_count": 14,
     "metadata": {},
     "output_type": "execute_result"
    }
   ],
   "source": [
    "# Check: Compare to raw data\n",
    "weather_201408.take(20)"
   ]
  },
  {
   "cell_type": "code",
   "execution_count": null,
   "metadata": {
    "collapsed": true
   },
   "outputs": [],
   "source": []
  }
 ],
 "metadata": {
  "anaconda-cloud": {},
  "kernelspec": {
   "display_name": "Python [conda root]",
   "language": "python",
   "name": "conda-root-py"
  },
  "language_info": {
   "codemirror_mode": {
    "name": "ipython",
    "version": 2
   },
   "file_extension": ".py",
   "mimetype": "text/x-python",
   "name": "python",
   "nbconvert_exporter": "python",
   "pygments_lexer": "ipython2",
   "version": "2.7.12"
  }
 },
 "nbformat": 4,
 "nbformat_minor": 1
}
