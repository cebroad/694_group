{
 "cells": [
  {
   "cell_type": "code",
   "execution_count": 3,
   "metadata": {
    "collapsed": false
   },
   "outputs": [
    {
     "data": {
      "text/plain": [
       "<pyspark.context.SparkContext at 0x109c6ddd0>"
      ]
     },
     "execution_count": 3,
     "metadata": {},
     "output_type": "execute_result"
    }
   ],
   "source": [
    "sc"
   ]
  },
  {
   "cell_type": "code",
   "execution_count": 4,
   "metadata": {
    "collapsed": true
   },
   "outputs": [],
   "source": [
    "from pyspark import SparkContext, SparkConf\n",
    "from pyspark.sql import Row\n",
    "from datetime import datetime\n",
    "from pyspark.sql.types import *\n",
    "from pyspark.sql import SQLContext"
   ]
  },
  {
   "cell_type": "code",
   "execution_count": 5,
   "metadata": {
    "collapsed": false
   },
   "outputs": [],
   "source": [
    "def toIntSafe(inval):\n",
    "    try:\n",
    "        return int(inval)\n",
    "    except ValueError:\n",
    "        return None\n",
    "\n",
    "def toTimeSafe(inval):\n",
    "    try:\n",
    "        return datetime.strptime(inval, \"%Y-%m-%d %H:%M:%S.%f\")\n",
    "    except ValueError:\n",
    "        return None\n",
    "\n",
    "def toDateSafe(inval):\n",
    "    try:\n",
    "        return datetime.strptime(inval, \"%m/%d/%Y\")\n",
    "    except ValueError:\n",
    "        return None\n",
    "    \n",
    "def toFloatSafe(inval):\n",
    "    try:\n",
    "        return float(inval)\n",
    "    except ValueError:\n",
    "        return None\n",
    "        \n",
    "def toDateTimeSafe(inval):\n",
    "    try:\n",
    "        return datetime.strptime(inval, \"%m/%d/%Y %H:%M\")\n",
    "    except ValueError:\n",
    "        return None"
   ]
  },
  {
   "cell_type": "code",
   "execution_count": 6,
   "metadata": {
    "collapsed": false
   },
   "outputs": [],
   "source": [
    "#CONVERSION FUNCTIONS\n",
    "# ONE FOR EACH INPUT DATA SET\n",
    "def convStationString(r):\n",
    "    return Row(\n",
    "    toIntSafe(r[0])\n",
    "    ,r[1]\n",
    "    ,toFloatSafe(r[2])\n",
    "    ,toFloatSafe(r[3])\n",
    "    ,toIntSafe(r[4])\n",
    "    ,r[5]\n",
    "    ,toDateSafe(r[6])\n",
    "    )\n",
    "\n",
    "def convWeatherString(r):\n",
    "    return Row(\n",
    "    toDateSafe(r[0])\n",
    "    ,toIntSafe(r[1])\n",
    "    ,toIntSafe(r[2])\n",
    "    ,toIntSafe(r[3])\n",
    "    ,toIntSafe(r[4])\n",
    "    ,toIntSafe(r[5])\n",
    "    ,toIntSafe(r[6])\n",
    "    ,toIntSafe(r[7])\n",
    "    ,toIntSafe(r[8])\n",
    "    ,toIntSafe(r[9])\n",
    "    ,toFloatSafe(r[10])\n",
    "    ,toFloatSafe(r[11])\n",
    "    ,toFloatSafe(r[12])\n",
    "    ,toIntSafe(r[13])\n",
    "    ,toIntSafe(r[14])\n",
    "    ,toIntSafe(r[15])\n",
    "    ,toIntSafe(r[16])\n",
    "    ,toIntSafe(r[17])\n",
    "    ,toIntSafe(r[18])\n",
    "    ,toFloatSafe(r[19])\n",
    "    ,toIntSafe(r[20])\n",
    "    ,r[21]\n",
    "    ,toIntSafe(r[22])\n",
    "    ,r[23]\n",
    "    )\n",
    "    \n",
    "def convTripString(r):\n",
    "    return Row(\n",
    "    toIntSafe(r[0])\n",
    "    ,toIntSafe(r[1])\n",
    "    ,toDateTimeSafe(r[2])\n",
    "    ,r[3]\n",
    "    ,toIntSafe(r[4])\n",
    "    ,toDateTimeSafe(r[5])\n",
    "    ,r[6]\n",
    "    ,toIntSafe(r[7])\n",
    "    ,toIntSafe(r[8])\n",
    "    ,r[9]\n",
    "    ,r[10]\n",
    "    )"
   ]
  },
  {
   "cell_type": "code",
   "execution_count": 7,
   "metadata": {
    "collapsed": true
   },
   "outputs": [],
   "source": [
    "#Schema definitions\n",
    "stationSchema = StructType([\n",
    "  StructField(\"station_id\", IntegerType(), True),\n",
    "  StructField(\"station_name\", StringType(), True),\n",
    "  StructField(\"lat\", FloatType(), True),\n",
    "  StructField(\"long\", FloatType(), True),\n",
    "  StructField(\"dock_ct\", IntegerType(), True),\n",
    "  StructField(\"city\", StringType(), True),\n",
    "  StructField(\"install_dt\", DateType(), True),\n",
    "  ])\n",
    "\n",
    "weatherSchema = StructType([\n",
    "  StructField(\"Date\", DateType(), True),\n",
    "  StructField(\"max_temp\", IntegerType(), True),\n",
    "  StructField(\"mean_temp\", IntegerType(), True),\n",
    "  StructField(\"min_temp\", IntegerType(), True),\n",
    "  StructField(\"max_dp\", IntegerType(), True),\n",
    "  StructField(\"mean_dp\", IntegerType(), True),\n",
    "  StructField(\"min_dp\", IntegerType(), True),\n",
    "  StructField(\"max_humidity\", IntegerType(), True),\n",
    "  StructField(\"mean_humidity\", IntegerType(), True),\n",
    "  StructField(\"min_humidity\", IntegerType(), True),\n",
    "  StructField(\"max_pressure\", FloatType(), True),\n",
    "  StructField(\"mean_pressure\", FloatType(), True),\n",
    "  StructField(\"min_pressure\", FloatType(), True),\n",
    "  StructField(\"max_visibility\", IntegerType(), True),\n",
    "  StructField(\"mean_visibility\", IntegerType(), True),\n",
    "  StructField(\"min_visibility\", IntegerType(), True),\n",
    "  StructField(\"max_ws\", IntegerType(), True),\n",
    "  StructField(\"mean_ws\", IntegerType(), True),\n",
    "  StructField(\"max_gust\", IntegerType(), True),\n",
    "  StructField(\"precipitation\", FloatType(), True),\n",
    "  StructField(\"cloud_cover\", IntegerType(), True),\n",
    "  StructField(\"events\", StringType(), True),\n",
    "  StructField(\"wind_dir\", IntegerType(), True),\n",
    "  StructField(\"zip_code\", StringType(), True)\n",
    "  ])\n",
    "\n",
    "tripSchema = StructType([\n",
    "  StructField(\"trip_id\", IntegerType(), True),\n",
    "  StructField(\"duration\", IntegerType(), True),\n",
    "  StructField(\"start_date\", DateType(), True),\n",
    "  StructField(\"start_station\", StringType(), True),\n",
    "  StructField(\"start_terminal\", IntegerType(), True),\n",
    "  StructField(\"end_date\", DateType(), True),\n",
    "  StructField(\"end_station\", StringType(), True),\n",
    "  StructField(\"end_terminal\", IntegerType(), True),\n",
    "  StructField(\"bike_no\", IntegerType(), True),\n",
    "  StructField(\"sub_type\", StringType(), True),\n",
    "  StructField(\"zip\", StringType(), True)\n",
    "  ])"
   ]
  },
  {
   "cell_type": "code",
   "execution_count": 8,
   "metadata": {
    "collapsed": false
   },
   "outputs": [],
   "source": [
    "#Import Functions\n",
    "\n",
    "def importAndConvert (file_name, conv_function, schema_name, ):\n",
    "# ### Import YYYYMM_station_data.csv and convert to Data Frame\n",
    "\n",
    "    # Step 1: Import and remove header for August Data\n",
    "    data = sc.textFile(file_name)\n",
    "    header = data.first() #extract header\n",
    "    data = data.filter(lambda row: row != header) #filter to exclude header\n",
    "    print \"Step 1 complete\"\n",
    "    \n",
    "    # Step 2: Split rows by commas and convert to tuples\n",
    "    data_split = data.map(lambda x: x.split(\",\"))\n",
    "    data_tuple = data_split.map(lambda l: tuple(l))\n",
    "    print \"Step 2 complete\"\n",
    "\n",
    "    # Check: Print out tuple-formatted data\n",
    "    print data_tuple.take(5)\n",
    "\n",
    "    # Step 3: Convert Input Data\n",
    "    data_RDD = data_tuple.map(lambda x: conv_function(x))\n",
    "    print \"Step 3 complete\"\n",
    "\n",
    "    # Step 4: Create DataFrame with Schema\n",
    "    data_DF = sqlContext.createDataFrame(data_RDD, schema_name)\n",
    "    print \"Step 4 complete\"\n",
    "\n",
    "    # Check: Print Schema\n",
    "    data_DF.printSchema()\n",
    "\n",
    "    # Check: Print First 20 Rows of Data Frame\n",
    "    data_DF.show()\n",
    "\n",
    "    return data_DF\n",
    "\n",
    "\n",
    "def stackData(prefix):\n",
    "\treturn prefix_201408_DF.unionAll(prefix_201402_DF)"
   ]
  },
  {
   "cell_type": "code",
   "execution_count": 13,
   "metadata": {
    "collapsed": false
   },
   "outputs": [],
   "source": [
    "#Call Functions of DataSets\n",
    "# station data\n",
    "#station_201408_DF = importAndConvert('data/data/201408_station_data.csv', convStationString, stationSchema)\n",
    "#station_201402_DF = importAndConvert('data/data/201402_station_data.csv', convStationString, stationSchema)\n",
    "\n",
    "#station_12mos = station_201408_DF.unionAll(station_201402_DF)\n",
    "\n",
    "#print \"Dataset 1 Count: \", station_201408_DF.count()\n",
    "#print \"Dataset 2 Count: \", station_201402_DF.count()\n",
    "#print \"Full 12 MOnths Dataset Count: \", station_12mos.count()\n",
    "\n",
    "#station_12mos.show()"
   ]
  },
  {
   "cell_type": "code",
   "execution_count": 10,
   "metadata": {
    "collapsed": false
   },
   "outputs": [
    {
     "name": "stdout",
     "output_type": "stream",
     "text": [
      "Step 1 complete\n",
      "Step 2 complete\n",
      "[(u'432946', u'406', u'8/31/2014 22:31', u'Mountain View Caltrain Station', u'28', u'8/31/2014 22:38', u'Castro Street and El Camino Real', u'32', u'17', u'Subscriber', u'94040'), (u'432945', u'468', u'8/31/2014 22:07', u'Beale at Market', u'56', u'8/31/2014 22:15', u'Market at 4th', u'76', u'509', u'Customer', u'11231'), (u'432944', u'534', u'8/31/2014 22:06', u'Beale at Market', u'56', u'8/31/2014 22:15', u'Market at 4th', u'76', u'342', u'Customer', u'11231'), (u'432942', u'1041', u'8/31/2014 21:45', u'Embarcadero at Sansome', u'60', u'8/31/2014 22:02', u'Steuart at Market', u'74', u'603', u'Customer', u'94521'), (u'432941', u'1091', u'8/31/2014 21:44', u'Embarcadero at Sansome', u'60', u'8/31/2014 22:02', u'Steuart at Market', u'74', u'598', u'Customer', u'94521')]\n",
      "Step 3 complete\n",
      "Step 4 complete\n",
      "root\n",
      " |-- trip_id: integer (nullable = true)\n",
      " |-- duration: integer (nullable = true)\n",
      " |-- start_date: date (nullable = true)\n",
      " |-- start_station: string (nullable = true)\n",
      " |-- start_terminal: integer (nullable = true)\n",
      " |-- end_date: date (nullable = true)\n",
      " |-- end_station: string (nullable = true)\n",
      " |-- end_terminal: integer (nullable = true)\n",
      " |-- bike_no: integer (nullable = true)\n",
      " |-- sub_type: string (nullable = true)\n",
      " |-- zip: string (nullable = true)\n",
      "\n",
      "+-------+--------+----------+--------------------+--------------+----------+--------------------+------------+-------+----------+-----+\n",
      "|trip_id|duration|start_date|       start_station|start_terminal|  end_date|         end_station|end_terminal|bike_no|  sub_type|  zip|\n",
      "+-------+--------+----------+--------------------+--------------+----------+--------------------+------------+-------+----------+-----+\n",
      "| 432946|     406|2014-08-31|Mountain View Cal...|            28|2014-08-31|Castro Street and...|          32|     17|Subscriber|94040|\n",
      "| 432945|     468|2014-08-31|     Beale at Market|            56|2014-08-31|       Market at 4th|          76|    509|  Customer|11231|\n",
      "| 432944|     534|2014-08-31|     Beale at Market|            56|2014-08-31|       Market at 4th|          76|    342|  Customer|11231|\n",
      "| 432942|    1041|2014-08-31|Embarcadero at Sa...|            60|2014-08-31|   Steuart at Market|          74|    603|  Customer|94521|\n",
      "| 432941|    1091|2014-08-31|Embarcadero at Sa...|            60|2014-08-31|   Steuart at Market|          74|    598|  Customer|94521|\n",
      "| 432940|    1126|2014-08-31|Embarcadero at Sa...|            60|2014-08-31|   Steuart at Market|          74|    555|  Customer|94521|\n",
      "| 432939|    1135|2014-08-31|Embarcadero at Sa...|            60|2014-08-31|   Steuart at Market|          74|    425|  Customer|94521|\n",
      "| 432938|    1151|2014-08-31|Embarcadero at Sa...|            60|2014-08-31|   Steuart at Market|          74|    406|  Customer|94521|\n",
      "| 432937|     614|2014-08-31|Embarcadero at Sa...|            60|2014-08-31|Harry Bridges Pla...|          50|    542|  Customer|35242|\n",
      "| 432936|     617|2014-08-31|Embarcadero at Sa...|            60|2014-08-31|Harry Bridges Pla...|          50|    622|  Customer|35242|\n",
      "| 432934|     977|2014-08-31|     2nd at Townsend|            61|2014-08-31|South Van Ness at...|          66|    466|  Customer|   32|\n",
      "| 432931|    1035|2014-08-31|     2nd at Townsend|            61|2014-08-31|South Van Ness at...|          66|    458|  Customer|   32|\n",
      "| 432930|     378|2014-08-31|   Market at Sansome|            77|2014-08-31|Grant Avenue at C...|          73|    548|Subscriber|94133|\n",
      "| 432929|     173|2014-08-31|       Howard at 2nd|            63|2014-08-31|Temporary Transba...|          55|    477|Subscriber|94108|\n",
      "| 432928|     490|2014-08-31|Harry Bridges Pla...|            50|2014-08-31|     2nd at Townsend|          61|    559|Subscriber|94107|\n",
      "| 432927|     532|2014-08-31|Harry Bridges Pla...|            50|2014-08-31|     2nd at Townsend|          61|    458|  Customer|94107|\n",
      "| 432926|     815|2014-08-31|San Francisco Cal...|            70|2014-08-31|Embarcadero at Sa...|          60|    603|Subscriber|94111|\n",
      "| 432925|     186|2014-08-31|Temporary Transba...|            55|2014-08-31|       Howard at 2nd|          63|    395|Subscriber|94108|\n",
      "| 432924|    1007|2014-08-31|Grant Avenue at C...|            73|2014-08-31|       Market at 4th|          76|    590|  Customer|44070|\n",
      "| 432923|    1020|2014-08-31|Grant Avenue at C...|            73|2014-08-31|       Market at 4th|          76|    456|  Customer|44070|\n",
      "+-------+--------+----------+--------------------+--------------+----------+--------------------+------------+-------+----------+-----+\n",
      "only showing top 20 rows\n",
      "\n",
      "Step 1 complete\n",
      "Step 2 complete\n",
      "[(u'4576', u'63', u'8/29/2013 14:13', u'South Van Ness at Market', u'66', u'8/29/2013 14:14', u'South Van Ness at Market', u'66', u'520', u'Subscriber', u'94127'), (u'4607', u'70', u'8/29/2013 14:42', u'San Jose City Hall', u'10', u'8/29/2013 14:43', u'San Jose City Hall', u'10', u'661', u'Subscriber', u'95138'), (u'4130', u'71', u'8/29/2013 10:16', u'Mountain View City Hall', u'27', u'8/29/2013 10:17', u'Mountain View City Hall', u'27', u'48', u'Subscriber', u'97214'), (u'4251', u'77', u'8/29/2013 11:29', u'San Jose City Hall', u'10', u'8/29/2013 11:30', u'San Jose City Hall', u'10', u'26', u'Subscriber', u'95060'), (u'4299', u'83', u'8/29/2013 12:02', u'South Van Ness at Market', u'66', u'8/29/2013 12:04', u'Market at 10th', u'67', u'319', u'Subscriber', u'94103')]\n",
      "Step 3 complete\n",
      "Step 4 complete\n",
      "root\n",
      " |-- trip_id: integer (nullable = true)\n",
      " |-- duration: integer (nullable = true)\n",
      " |-- start_date: date (nullable = true)\n",
      " |-- start_station: string (nullable = true)\n",
      " |-- start_terminal: integer (nullable = true)\n",
      " |-- end_date: date (nullable = true)\n",
      " |-- end_station: string (nullable = true)\n",
      " |-- end_terminal: integer (nullable = true)\n",
      " |-- bike_no: integer (nullable = true)\n",
      " |-- sub_type: string (nullable = true)\n",
      " |-- zip: string (nullable = true)\n",
      "\n",
      "+-------+--------+----------+--------------------+--------------+----------+--------------------+------------+-------+----------+-----+\n",
      "|trip_id|duration|start_date|       start_station|start_terminal|  end_date|         end_station|end_terminal|bike_no|  sub_type|  zip|\n",
      "+-------+--------+----------+--------------------+--------------+----------+--------------------+------------+-------+----------+-----+\n",
      "|   4576|      63|2013-08-29|South Van Ness at...|            66|2013-08-29|South Van Ness at...|          66|    520|Subscriber|94127|\n",
      "|   4607|      70|2013-08-29|  San Jose City Hall|            10|2013-08-29|  San Jose City Hall|          10|    661|Subscriber|95138|\n",
      "|   4130|      71|2013-08-29|Mountain View Cit...|            27|2013-08-29|Mountain View Cit...|          27|     48|Subscriber|97214|\n",
      "|   4251|      77|2013-08-29|  San Jose City Hall|            10|2013-08-29|  San Jose City Hall|          10|     26|Subscriber|95060|\n",
      "|   4299|      83|2013-08-29|South Van Ness at...|            66|2013-08-29|      Market at 10th|          67|    319|Subscriber|94103|\n",
      "|   4927|     103|2013-08-29| Golden Gate at Polk|            59|2013-08-29| Golden Gate at Polk|          59|    527|Subscriber|94109|\n",
      "|   4500|     109|2013-08-29|Santa Clara at Al...|             4|2013-08-29|    Adobe on Almaden|           5|    679|Subscriber|95112|\n",
      "|   4563|     111|2013-08-29| San Salvador at 1st|             8|2013-08-29| San Salvador at 1st|           8|    687|Subscriber|95112|\n",
      "|   4760|     113|2013-08-29|South Van Ness at...|            66|2013-08-29|South Van Ness at...|          66|    553|Subscriber|94103|\n",
      "|   4258|     114|2013-08-29|  San Jose City Hall|            10|2013-08-29|         MLK Library|          11|    107|Subscriber|95060|\n",
      "|   4549|     125|2013-08-29|     Spear at Folsom|            49|2013-08-29|Embarcadero at Br...|          54|    368|Subscriber|94109|\n",
      "|   4498|     126|2013-08-29|    San Pedro Square|             6|2013-08-29|Santa Clara at Al...|           4|     26|Subscriber|95112|\n",
      "|   4965|     129|2013-08-29|Mountain View Cal...|            28|2013-08-29|Mountain View Cal...|          28|    140|Subscriber|94041|\n",
      "|   4557|     130|2013-08-29|   2nd at South Park|            64|2013-08-29|   2nd at South Park|          64|    371|Subscriber|94122|\n",
      "|   4386|     134|2013-08-29|     Clay at Battery|            41|2013-08-29|     Beale at Market|          56|    503|Subscriber|94109|\n",
      "|   4749|     138|2013-08-29|     Post at Kearney|            47|2013-08-29|     Post at Kearney|          47|    408|Subscriber|94117|\n",
      "|   4242|     141|2013-08-29|  San Jose City Hall|            10|2013-08-29|  San Jose City Hall|          10|     26|Subscriber|95060|\n",
      "|   4329|     142|2013-08-29|      Market at 10th|            67|2013-08-29|      Market at 10th|          67|    319|Subscriber|94103|\n",
      "|   5097|     142|2013-08-29|   Steuart at Market|            74|2013-08-29|Harry Bridges Pla...|          50|    564|Subscriber|94115|\n",
      "|   5084|     144|2013-08-29|  Powell Street BART|            39|2013-08-29|       Market at 4th|          76|    574|Subscriber|94115|\n",
      "+-------+--------+----------+--------------------+--------------+----------+--------------------+------------+-------+----------+-----+\n",
      "only showing top 20 rows\n",
      "\n",
      "Dataset 1 Count:  171792\n",
      "Dataset 2 Count:  144015\n",
      "Full 12 MOnths Dataset Count:  315807\n",
      "+-------+--------+----------+--------------------+--------------+----------+--------------------+------------+-------+----------+-----+\n",
      "|trip_id|duration|start_date|       start_station|start_terminal|  end_date|         end_station|end_terminal|bike_no|  sub_type|  zip|\n",
      "+-------+--------+----------+--------------------+--------------+----------+--------------------+------------+-------+----------+-----+\n",
      "| 432946|     406|2014-08-31|Mountain View Cal...|            28|2014-08-31|Castro Street and...|          32|     17|Subscriber|94040|\n",
      "| 432945|     468|2014-08-31|     Beale at Market|            56|2014-08-31|       Market at 4th|          76|    509|  Customer|11231|\n",
      "| 432944|     534|2014-08-31|     Beale at Market|            56|2014-08-31|       Market at 4th|          76|    342|  Customer|11231|\n",
      "| 432942|    1041|2014-08-31|Embarcadero at Sa...|            60|2014-08-31|   Steuart at Market|          74|    603|  Customer|94521|\n",
      "| 432941|    1091|2014-08-31|Embarcadero at Sa...|            60|2014-08-31|   Steuart at Market|          74|    598|  Customer|94521|\n",
      "| 432940|    1126|2014-08-31|Embarcadero at Sa...|            60|2014-08-31|   Steuart at Market|          74|    555|  Customer|94521|\n",
      "| 432939|    1135|2014-08-31|Embarcadero at Sa...|            60|2014-08-31|   Steuart at Market|          74|    425|  Customer|94521|\n",
      "| 432938|    1151|2014-08-31|Embarcadero at Sa...|            60|2014-08-31|   Steuart at Market|          74|    406|  Customer|94521|\n",
      "| 432937|     614|2014-08-31|Embarcadero at Sa...|            60|2014-08-31|Harry Bridges Pla...|          50|    542|  Customer|35242|\n",
      "| 432936|     617|2014-08-31|Embarcadero at Sa...|            60|2014-08-31|Harry Bridges Pla...|          50|    622|  Customer|35242|\n",
      "| 432934|     977|2014-08-31|     2nd at Townsend|            61|2014-08-31|South Van Ness at...|          66|    466|  Customer|   32|\n",
      "| 432931|    1035|2014-08-31|     2nd at Townsend|            61|2014-08-31|South Van Ness at...|          66|    458|  Customer|   32|\n",
      "| 432930|     378|2014-08-31|   Market at Sansome|            77|2014-08-31|Grant Avenue at C...|          73|    548|Subscriber|94133|\n",
      "| 432929|     173|2014-08-31|       Howard at 2nd|            63|2014-08-31|Temporary Transba...|          55|    477|Subscriber|94108|\n",
      "| 432928|     490|2014-08-31|Harry Bridges Pla...|            50|2014-08-31|     2nd at Townsend|          61|    559|Subscriber|94107|\n",
      "| 432927|     532|2014-08-31|Harry Bridges Pla...|            50|2014-08-31|     2nd at Townsend|          61|    458|  Customer|94107|\n",
      "| 432926|     815|2014-08-31|San Francisco Cal...|            70|2014-08-31|Embarcadero at Sa...|          60|    603|Subscriber|94111|\n",
      "| 432925|     186|2014-08-31|Temporary Transba...|            55|2014-08-31|       Howard at 2nd|          63|    395|Subscriber|94108|\n",
      "| 432924|    1007|2014-08-31|Grant Avenue at C...|            73|2014-08-31|       Market at 4th|          76|    590|  Customer|44070|\n",
      "| 432923|    1020|2014-08-31|Grant Avenue at C...|            73|2014-08-31|       Market at 4th|          76|    456|  Customer|44070|\n",
      "+-------+--------+----------+--------------------+--------------+----------+--------------------+------------+-------+----------+-----+\n",
      "only showing top 20 rows\n",
      "\n"
     ]
    }
   ],
   "source": [
    "# Trip Data\n",
    "\n",
    "trip_201408_DF = importAndConvert('data/data/201408_trip_data.csv', convTripString, tripSchema)\n",
    "trip_201402_DF = importAndConvert('data/data/201402_trip_data.csv', convTripString, tripSchema)\n",
    "\n",
    "trip_12mos = trip_201408_DF.unionAll(trip_201402_DF)\n",
    "\n",
    "print \"Dataset 1 Count: \", trip_201408_DF.count()\n",
    "print \"Dataset 2 Count: \", trip_201402_DF.count()\n",
    "print \"Full 12 MOnths Dataset Count: \", trip_12mos.count()\n",
    "\n",
    "#trip_201402_DF.show()\n",
    "trip_12mos.show()"
   ]
  },
  {
   "cell_type": "code",
   "execution_count": 11,
   "metadata": {
    "collapsed": false
   },
   "outputs": [],
   "source": [
    "# Weather Data\n",
    "\n",
    "#weather_201408_DF = importAndConvert('data/data/201408_weather_data.csv', convWeatherString, weatherSchema)\n",
    "#weather_201402_DF = importAndConvert('data/data/201402_weather_data.csv', convWeatherString, weatherSchema)\n",
    "\n",
    "#weather_12mos = weather_201408_DF.unionAll(weather_201402_DF)\n",
    "\n",
    "#print \"Dataset 1 Count: \", weather_201408_DF.count()\n",
    "#print \"Dataset 2 Count: \", weather_201402_DF.count()\n",
    "#print \"Full 12 MOnths Dataset Count: \", weather_12mos.count()\n",
    "\n",
    "#weather_12mos.show()"
   ]
  },
  {
   "cell_type": "code",
   "execution_count": 30,
   "metadata": {
    "collapsed": false
   },
   "outputs": [],
   "source": [
    "#FEATURE EXTRACTION AND ML "
   ]
  },
  {
   "cell_type": "code",
   "execution_count": 23,
   "metadata": {
    "collapsed": true
   },
   "outputs": [],
   "source": [
    "#Number of rides per user\n"
   ]
  },
  {
   "cell_type": "code",
   "execution_count": null,
   "metadata": {
    "collapsed": false
   },
   "outputs": [],
   "source": []
  },
  {
   "cell_type": "code",
   "execution_count": null,
   "metadata": {
    "collapsed": true
   },
   "outputs": [],
   "source": []
  }
 ],
 "metadata": {
  "anaconda-cloud": {},
  "kernelspec": {
   "display_name": "Python [conda root]",
   "language": "python",
   "name": "conda-root-py"
  },
  "language_info": {
   "codemirror_mode": {
    "name": "ipython",
    "version": 2
   },
   "file_extension": ".py",
   "mimetype": "text/x-python",
   "name": "python",
   "nbconvert_exporter": "python",
   "pygments_lexer": "ipython2",
   "version": "2.7.12"
  }
 },
 "nbformat": 4,
 "nbformat_minor": 1
}
